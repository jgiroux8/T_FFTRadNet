{
 "cells": [
  {
   "cell_type": "code",
   "execution_count": 1,
   "metadata": {},
   "outputs": [],
   "source": [
    "from DBReader import ASyncReader\n",
    "import matplotlib.pyplot as plt\n",
    "import numpy as np"
   ]
  },
  {
   "cell_type": "markdown",
   "metadata": {},
   "source": [
    "### Open the dataset"
   ]
  },
  {
   "cell_type": "code",
   "execution_count": 2,
   "metadata": {},
   "outputs": [
    {
     "name": "stdout",
     "output_type": "stream",
     "text": [
      "-------------------------------------------------------------------------\n",
      "- Sensors available:\n",
      "-     scala\n",
      "-     radar_ch2\n",
      "-     can\n",
      "-     camera\n",
      "-     radar_ch1\n",
      "-     radar_ch3\n",
      "-     radar_ch0\n",
      "-     gps\n",
      "-\n",
      "- You might use function \"setSensorFilters\" to select sensors you want to read!\n",
      "-------------------------------------------------------------------------\n"
     ]
    }
   ],
   "source": [
    "db = ASyncReader('/media/julien/HD_RADAR1/FinalDataset/RADIal/RECORD@2020-11-22_12.28.47')"
   ]
  },
  {
   "cell_type": "code",
   "execution_count": 6,
   "metadata": {},
   "outputs": [
    {
     "name": "stdout",
     "output_type": "stream",
     "text": [
      "['scala' 'radar_ch2' 'can' 'camera' 'radar_ch1' 'radar_ch3' 'radar_ch0'\n",
      " 'gps']\n",
      "Used filters:\n",
      "['scala']\n"
     ]
    }
   ],
   "source": [
    "# if you leave the default parameters, it considers all the sensors\n",
    "# if you want only a subset of sensor, use the function setSensorFilters\n",
    "print(db.getSensorFilters())\n",
    "db.setSensorFilters(['scala'])"
   ]
  },
  {
   "cell_type": "code",
   "execution_count": 7,
   "metadata": {},
   "outputs": [
    {
     "name": "stdout",
     "output_type": "stream",
     "text": [
      "Available sensors:\n",
      "# Sensor:  camera\n",
      "\t- filename:  /media/julien/HD_RADAR1/FinalDataset/Pitch0Deg/RECORD@2020-11-22_12.28.47/RECORD@2020-11-22_12.28.47_camera.mjpg\n",
      "\t- Nb Samples:  9670\n",
      "\t- Duration:  90 sec\n",
      "\t- Update rate:  9.397733712512927 ms\n",
      "# Sensor:  scala\n",
      "\t- filename:  /media/julien/HD_RADAR1/FinalDataset/Pitch0Deg/RECORD@2020-11-22_12.28.47/RECORD@2020-11-22_12.28.47_scala.bin\n",
      "\t- Nb Samples:  61294\n",
      "\t- Duration:  90 sec\n",
      "\t- Update rate:  1.4832435801220347 ms\n",
      "# Sensor:  radar_ch0\n",
      "\t- filename:  /media/julien/HD_RADAR1/FinalDataset/Pitch0Deg/RECORD@2020-11-22_12.28.47/RECORD@2020-11-22_12.28.47_radar_ch0.bin\n",
      "\t- Nb Samples:  6683\n",
      "\t- Duration:  90 sec\n",
      "\t- Update rate:  13.557683674996257 ms\n",
      "# Sensor:  radar_ch1\n",
      "\t- filename:  /media/julien/HD_RADAR1/FinalDataset/Pitch0Deg/RECORD@2020-11-22_12.28.47/RECORD@2020-11-22_12.28.47_radar_ch1.bin\n",
      "\t- Nb Samples:  6685\n",
      "\t- Duration:  90 sec\n",
      "\t- Update rate:  13.58848167539267 ms\n",
      "# Sensor:  can\n",
      "\t- filename:  /media/julien/HD_RADAR1/FinalDataset/Pitch0Deg/RECORD@2020-11-22_12.28.47/RECORD@2020-11-22_12.28.47_can.bin\n",
      "\t- Nb Samples:  6808\n",
      "\t- Duration:  90 sec\n",
      "\t- Update rate:  13.34502893654524 ms\n",
      "# Sensor:  radar_ch2\n",
      "\t- filename:  /media/julien/HD_RADAR1/FinalDataset/Pitch0Deg/RECORD@2020-11-22_12.28.47/RECORD@2020-11-22_12.28.47_radar_ch2.bin\n",
      "\t- Nb Samples:  6684\n",
      "\t- Duration:  90 sec\n",
      "\t- Update rate:  13.587971274685817 ms\n",
      "# Sensor:  radar_ch3\n",
      "\t- filename:  /media/julien/HD_RADAR1/FinalDataset/Pitch0Deg/RECORD@2020-11-22_12.28.47/RECORD@2020-11-22_12.28.47_radar_ch3.bin\n",
      "\t- Nb Samples:  6682\n",
      "\t- Duration:  90 sec\n",
      "\t- Update rate:  13.560011972463334 ms\n",
      "# Sensor:  gps\n",
      "\t- filename:  /media/julien/HD_RADAR1/FinalDataset/Pitch0Deg/RECORD@2020-11-22_12.28.47/RECORD@2020-11-22_12.28.47_gps.ascii\n",
      "\t- Nb Samples:  1006\n",
      "\t- Duration:  90 sec\n",
      "\t- Update rate:  89.65561033797218 ms\n",
      "\n"
     ]
    }
   ],
   "source": [
    "# use print_info function to get all the details of the database contant\n",
    "db.print_info()\n",
    "print('')"
   ]
  },
  {
   "cell_type": "markdown",
   "metadata": {},
   "source": [
    "### Go through the dataset"
   ]
  },
  {
   "cell_type": "code",
   "execution_count": 9,
   "metadata": {},
   "outputs": [
    {
     "name": "stdout",
     "output_type": "stream",
     "text": [
      "timestamp:  243988403 timeofissue:  245074808 Sensor:  scala sample:  59019\n",
      "timestamp:  244028322 timeofissue:  245116140 Sensor:  scala sample:  59020\n",
      "timestamp:  244068240 timeofissue:  245153241 Sensor:  scala sample:  59021\n",
      "timestamp:  244108130 timeofissue:  245192105 Sensor:  scala sample:  59022\n",
      "timestamp:  244148027 timeofissue:  245229378 Sensor:  scala sample:  59023\n",
      "timestamp:  244187870 timeofissue:  245268170 Sensor:  scala sample:  59024\n",
      "timestamp:  244227716 timeofissue:  245309794 Sensor:  scala sample:  59025\n",
      "timestamp:  244267539 timeofissue:  245353257 Sensor:  scala sample:  59026\n",
      "timestamp:  244307411 timeofissue:  245388742 Sensor:  scala sample:  59027\n",
      "timestamp:  244347339 timeofissue:  245429720 Sensor:  scala sample:  59028\n",
      "timestamp:  244387333 timeofissue:  245471829 Sensor:  scala sample:  59029\n",
      "timestamp:  244427359 timeofissue:  245509158 Sensor:  scala sample:  59030\n",
      "timestamp:  244467449 timeofissue:  245548216 Sensor:  scala sample:  59031\n",
      "timestamp:  244507528 timeofissue:  245587565 Sensor:  scala sample:  59032\n",
      "timestamp:  244547548 timeofissue:  245629982 Sensor:  scala sample:  59033\n",
      "timestamp:  244587472 timeofissue:  245673780 Sensor:  scala sample:  59034\n",
      "timestamp:  244627360 timeofissue:  245713948 Sensor:  scala sample:  59035\n",
      "timestamp:  244667193 timeofissue:  245752325 Sensor:  scala sample:  59036\n",
      "timestamp:  244707034 timeofissue:  245790679 Sensor:  scala sample:  59037\n",
      "timestamp:  244746852 timeofissue:  245830265 Sensor:  scala sample:  59038\n",
      "timestamp:  244786739 timeofissue:  245868761 Sensor:  scala sample:  59039\n",
      "timestamp:  244826662 timeofissue:  245906612 Sensor:  scala sample:  59040\n"
     ]
    }
   ],
   "source": [
    "# Create an iterator on the dataset\n",
    "ite = iter(db)\n",
    "\n",
    "# iterate through the entire dataset\n",
    "# it replays the data with the same order it has been recorded\n",
    "# it s sequential, that is to say each data will be from one of the sensor, but\n",
    "# not all at the same time\n",
    "# Please, take into account that the timeofissue are ordered but the timestamp are from the sensor, so \n",
    "# an offset has to be applied\n",
    "for i in range(len(db)):\n",
    "    timestamp,timeofissue,sample,sensor,data=next(ite)\n",
    "    print('timestamp: ',timestamp,'timeofissue: ',timeofissue,'Sensor: ',sensor,'sample: ',sample)\n",
    "    "
   ]
  },
  {
   "cell_type": "code",
   "execution_count": 12,
   "metadata": {},
   "outputs": [
    {
     "data": {
      "text/plain": [
       "'scala'"
      ]
     },
     "execution_count": 12,
     "metadata": {},
     "output_type": "execute_result"
    }
   ],
   "source": [
    "# or we can read a specific example\n",
    "timestamp,timeofissue,sample,sensor,sample_number,data = db.GetSensorData(100)\n",
    "sensor"
   ]
  },
  {
   "cell_type": "code",
   "execution_count": 13,
   "metadata": {},
   "outputs": [
    {
     "data": {
      "text/plain": [
       "[<matplotlib.lines.Line2D at 0x7f5e7661ea90>]"
      ]
     },
     "execution_count": 13,
     "metadata": {},
     "output_type": "execute_result"
    },
    {
     "data": {
      "image/png": "[encoded data removed]",
      "text/plain": [
       "<Figure size 432x288 with 1 Axes>"
      ]
     },
     "metadata": {
      "needs_background": "light"
     },
     "output_type": "display_data"
    }
   ],
   "source": [
    "plt.plot(data[:,0],data[:,1],'r.')"
   ]
  }
 ],
 "metadata": {
  "kernelspec": {
   "display_name": "Python 3 (ipykernel)",
   "language": "python",
   "name": "python3"
  },
  "language_info": {
   "codemirror_mode": {
    "name": "ipython",
    "version": 3
   },
   "file_extension": ".py",
   "mimetype": "text/x-python",
   "name": "python",
   "nbconvert_exporter": "python",
   "pygments_lexer": "ipython3",
   "version": "3.9.7"
  }
 },
 "nbformat": 4,
 "nbformat_minor": 4
}
